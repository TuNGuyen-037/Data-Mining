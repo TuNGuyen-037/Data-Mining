{
 "cells": [
  {
   "cell_type": "code",
   "execution_count": 87,
   "metadata": {},
   "outputs": [],
   "source": [
    "import pandas as pd"
   ]
  },
  {
   "cell_type": "markdown",
   "metadata": {},
   "source": [
    "# Thông tin dữ liệu"
   ]
  },
  {
   "cell_type": "code",
   "execution_count": 88,
   "metadata": {},
   "outputs": [],
   "source": [
    "item_1=pd.read_csv('124221.csv')\n",
    "item_2=pd.read_csv('124212.csv')"
   ]
  },
  {
   "cell_type": "code",
   "execution_count": 89,
   "metadata": {},
   "outputs": [
    {
     "name": "stdout",
     "output_type": "stream",
     "text": [
      "<class 'pandas.core.frame.DataFrame'>\n",
      "RangeIndex: 23 entries, 0 to 22\n",
      "Data columns (total 15 columns):\n",
      " #   Column  Non-Null Count  Dtype  \n",
      "---  ------  --------------  -----  \n",
      " 0   MaSV    23 non-null     object \n",
      " 1   KTMT    23 non-null     float64\n",
      " 2   PCB     23 non-null     float64\n",
      " 3   CTDL    23 non-null     float64\n",
      " 4   CSKTLT  23 non-null     float64\n",
      " 5   HDH     23 non-null     float64\n",
      " 6   CSDL    23 non-null     float64\n",
      " 7   HDT     23 non-null     float64\n",
      " 8   WF      23 non-null     float64\n",
      " 9   MMT     23 non-null     float64\n",
      " 10  CNPM    23 non-null     float64\n",
      " 11  DA1     23 non-null     float64\n",
      " 12  HQT     23 non-null     float64\n",
      " 13  PNC     23 non-null     float64\n",
      " 14  TRR     23 non-null     float64\n",
      "dtypes: float64(14), object(1)\n",
      "memory usage: 2.8+ KB\n"
     ]
    }
   ],
   "source": [
    "item_1.info()"
   ]
  },
  {
   "cell_type": "code",
   "execution_count": 90,
   "metadata": {},
   "outputs": [
    {
     "name": "stdout",
     "output_type": "stream",
     "text": [
      "<class 'pandas.core.frame.DataFrame'>\n",
      "RangeIndex: 23 entries, 0 to 22\n",
      "Data columns (total 15 columns):\n",
      " #   Column  Non-Null Count  Dtype  \n",
      "---  ------  --------------  -----  \n",
      " 0   MaSV    23 non-null     object \n",
      " 1   KTMT    23 non-null     float64\n",
      " 2   PCB     23 non-null     float64\n",
      " 3   CTDL    23 non-null     float64\n",
      " 4   CSKTLT  23 non-null     float64\n",
      " 5   HDH     23 non-null     float64\n",
      " 6   CSDL    23 non-null     float64\n",
      " 7   HDT     23 non-null     float64\n",
      " 8   WF      23 non-null     float64\n",
      " 9   MMT     23 non-null     float64\n",
      " 10  CNPM    23 non-null     float64\n",
      " 11  DA1     23 non-null     float64\n",
      " 12  HQT     23 non-null     float64\n",
      " 13  PNC     23 non-null     float64\n",
      " 14  TRR     23 non-null     float64\n",
      "dtypes: float64(14), object(1)\n",
      "memory usage: 2.8+ KB\n"
     ]
    }
   ],
   "source": [
    "item_2.info()"
   ]
  },
  {
   "cell_type": "code",
   "execution_count": 91,
   "metadata": {},
   "outputs": [
    {
     "data": {
      "text/plain": [
       "Index(['MaSV', 'KTMT', 'PCB', 'CTDL', 'CSKTLT', 'HDH', 'CSDL', 'HDT', 'WF',\n",
       "       'MMT', 'CNPM', 'DA1', 'HQT', 'PNC', 'TRR'],\n",
       "      dtype='object')"
      ]
     },
     "execution_count": 91,
     "metadata": {},
     "output_type": "execute_result"
    }
   ],
   "source": [
    "item_1.columns"
   ]
  },
  {
   "cell_type": "markdown",
   "metadata": {},
   "source": [
    "# Câu a:\n",
    "Xây dựng dataset D cho việc gợi ý các luật kết hợp từ kết quả học tập của các sinh\n",
    "viên có điểm giỏi trở lên."
   ]
  },
  {
   "cell_type": "code",
   "execution_count": 92,
   "metadata": {},
   "outputs": [],
   "source": [
    "# Thư viện luật kết hợp\n",
    "from mlxtend.frequent_patterns import fpgrowth, association_rules"
   ]
  },
  {
   "cell_type": "code",
   "execution_count": 93,
   "metadata": {},
   "outputs": [],
   "source": [
    "def get_subjects(row):\n",
    "    subjects=[]\n",
    "    if row['KTMT']>=8.0:\n",
    "        subjects.append('KTMT')\n",
    "    if row['PCB']>=8.0:\n",
    "        subjects.append('PCB')\n",
    "    if row['CTDL']>=8.0:\n",
    "        subjects.append('CTDL')\n",
    "    if row['CSKTLT']>=8.0:\n",
    "        subjects.append('CSKTLT')\n",
    "    if row['HDH']>=8.0:\n",
    "        subjects.append('HDH')\n",
    "    if row['CSDL']>=8.0:\n",
    "        subjects.append('CSDL')\n",
    "    if row['HDT']>=8.0:\n",
    "        subjects.append('HDT')\n",
    "    if row['WF']>=8.0:\n",
    "        subjects.append('WF')\n",
    "    if row['MMT']>=8.0:\n",
    "        subjects.append('MMT')\n",
    "    if row['CNPM']>=8.0:\n",
    "        subjects.append('CNPM')\n",
    "    if row['DA1']>=8.0:\n",
    "        subjects.append('DA1')\n",
    "    if row['HQT']>=8.0:\n",
    "        subjects.append('HQT')\n",
    "    if row['PNC']>=8.0:\n",
    "        subjects.append('PNC')\n",
    "    if row['TRR']>=8.0:\n",
    "        subjects.append('TRR')\n",
    "    return subjects"
   ]
  },
  {
   "cell_type": "code",
   "execution_count": 94,
   "metadata": {},
   "outputs": [],
   "source": [
    "\n",
    "item_1['good_subject']=item_1.apply(get_subjects,axis=1)\n",
    "item_2['good_subject']=item_2.apply(get_subjects,axis=1)\n",
    "df=pd.concat([item_1, item_2], ignore_index=True)"
   ]
  },
  {
   "cell_type": "code",
   "execution_count": 95,
   "metadata": {},
   "outputs": [
    {
     "data": {
      "text/plain": [
       "0                           [PCB, CTDL, HDT, DA1, PNC]\n",
       "1    [KTMT, PCB, CTDL, CSKTLT, HDH, HDT, CNPM, DA1,...\n",
       "2                                          [KTMT, PCB]\n",
       "3                                           [PCB, PNC]\n",
       "4    [KTMT, PCB, CTDL, CSKTLT, CSDL, HDT, WF, MMT, ...\n",
       "Name: good_subject, dtype: object"
      ]
     },
     "execution_count": 95,
     "metadata": {},
     "output_type": "execute_result"
    }
   ],
   "source": [
    "df['good_subject'].head(5)"
   ]
  },
  {
   "cell_type": "code",
   "execution_count": 96,
   "metadata": {},
   "outputs": [
    {
     "data": {
      "text/html": [
       "<div>\n",
       "<style scoped>\n",
       "    .dataframe tbody tr th:only-of-type {\n",
       "        vertical-align: middle;\n",
       "    }\n",
       "\n",
       "    .dataframe tbody tr th {\n",
       "        vertical-align: top;\n",
       "    }\n",
       "\n",
       "    .dataframe thead th {\n",
       "        text-align: right;\n",
       "    }\n",
       "</style>\n",
       "<table border=\"1\" class=\"dataframe\">\n",
       "  <thead>\n",
       "    <tr style=\"text-align: right;\">\n",
       "      <th></th>\n",
       "      <th>MaSV</th>\n",
       "      <th>KTMT</th>\n",
       "      <th>PCB</th>\n",
       "      <th>CTDL</th>\n",
       "      <th>CSKTLT</th>\n",
       "      <th>HDH</th>\n",
       "      <th>CSDL</th>\n",
       "      <th>HDT</th>\n",
       "      <th>WF</th>\n",
       "      <th>MMT</th>\n",
       "      <th>CNPM</th>\n",
       "      <th>DA1</th>\n",
       "      <th>HQT</th>\n",
       "      <th>PNC</th>\n",
       "      <th>TRR</th>\n",
       "      <th>good_subject</th>\n",
       "    </tr>\n",
       "  </thead>\n",
       "  <tbody>\n",
       "    <tr>\n",
       "      <th>41</th>\n",
       "      <td>SV19</td>\n",
       "      <td>6.0</td>\n",
       "      <td>7.2</td>\n",
       "      <td>6.4</td>\n",
       "      <td>6.7</td>\n",
       "      <td>5.8</td>\n",
       "      <td>5.3</td>\n",
       "      <td>5.2</td>\n",
       "      <td>7.3</td>\n",
       "      <td>5.7</td>\n",
       "      <td>7.0</td>\n",
       "      <td>6.4</td>\n",
       "      <td>5.1</td>\n",
       "      <td>5.5</td>\n",
       "      <td>5.9</td>\n",
       "      <td>[]</td>\n",
       "    </tr>\n",
       "    <tr>\n",
       "      <th>42</th>\n",
       "      <td>SV20</td>\n",
       "      <td>7.8</td>\n",
       "      <td>8.5</td>\n",
       "      <td>7.0</td>\n",
       "      <td>7.4</td>\n",
       "      <td>7.3</td>\n",
       "      <td>5.9</td>\n",
       "      <td>7.3</td>\n",
       "      <td>7.5</td>\n",
       "      <td>6.1</td>\n",
       "      <td>8.3</td>\n",
       "      <td>8.0</td>\n",
       "      <td>7.9</td>\n",
       "      <td>8.3</td>\n",
       "      <td>7.8</td>\n",
       "      <td>[PCB, CNPM, DA1, PNC]</td>\n",
       "    </tr>\n",
       "    <tr>\n",
       "      <th>43</th>\n",
       "      <td>SV21</td>\n",
       "      <td>8.0</td>\n",
       "      <td>8.2</td>\n",
       "      <td>8.0</td>\n",
       "      <td>7.4</td>\n",
       "      <td>7.5</td>\n",
       "      <td>7.1</td>\n",
       "      <td>8.0</td>\n",
       "      <td>8.3</td>\n",
       "      <td>8.0</td>\n",
       "      <td>8.8</td>\n",
       "      <td>8.5</td>\n",
       "      <td>8.8</td>\n",
       "      <td>9.5</td>\n",
       "      <td>7.5</td>\n",
       "      <td>[KTMT, PCB, CTDL, HDT, WF, MMT, CNPM, DA1, HQT...</td>\n",
       "    </tr>\n",
       "    <tr>\n",
       "      <th>44</th>\n",
       "      <td>SV22</td>\n",
       "      <td>8.0</td>\n",
       "      <td>8.5</td>\n",
       "      <td>7.9</td>\n",
       "      <td>7.9</td>\n",
       "      <td>6.5</td>\n",
       "      <td>6.3</td>\n",
       "      <td>7.3</td>\n",
       "      <td>6.0</td>\n",
       "      <td>7.7</td>\n",
       "      <td>6.8</td>\n",
       "      <td>7.8</td>\n",
       "      <td>6.7</td>\n",
       "      <td>8.0</td>\n",
       "      <td>6.0</td>\n",
       "      <td>[KTMT, PCB, PNC]</td>\n",
       "    </tr>\n",
       "    <tr>\n",
       "      <th>45</th>\n",
       "      <td>SV23</td>\n",
       "      <td>4.5</td>\n",
       "      <td>6.8</td>\n",
       "      <td>5.9</td>\n",
       "      <td>7.2</td>\n",
       "      <td>5.3</td>\n",
       "      <td>5.7</td>\n",
       "      <td>6.9</td>\n",
       "      <td>2.5</td>\n",
       "      <td>6.9</td>\n",
       "      <td>0.0</td>\n",
       "      <td>7.3</td>\n",
       "      <td>5.0</td>\n",
       "      <td>7.8</td>\n",
       "      <td>5.3</td>\n",
       "      <td>[]</td>\n",
       "    </tr>\n",
       "  </tbody>\n",
       "</table>\n",
       "</div>"
      ],
      "text/plain": [
       "    MaSV  KTMT  PCB  CTDL  CSKTLT  HDH  CSDL  HDT   WF  MMT  CNPM  DA1  HQT  \\\n",
       "41  SV19   6.0  7.2   6.4     6.7  5.8   5.3  5.2  7.3  5.7   7.0  6.4  5.1   \n",
       "42  SV20   7.8  8.5   7.0     7.4  7.3   5.9  7.3  7.5  6.1   8.3  8.0  7.9   \n",
       "43  SV21   8.0  8.2   8.0     7.4  7.5   7.1  8.0  8.3  8.0   8.8  8.5  8.8   \n",
       "44  SV22   8.0  8.5   7.9     7.9  6.5   6.3  7.3  6.0  7.7   6.8  7.8  6.7   \n",
       "45  SV23   4.5  6.8   5.9     7.2  5.3   5.7  6.9  2.5  6.9   0.0  7.3  5.0   \n",
       "\n",
       "    PNC  TRR                                       good_subject  \n",
       "41  5.5  5.9                                                 []  \n",
       "42  8.3  7.8                              [PCB, CNPM, DA1, PNC]  \n",
       "43  9.5  7.5  [KTMT, PCB, CTDL, HDT, WF, MMT, CNPM, DA1, HQT...  \n",
       "44  8.0  6.0                                   [KTMT, PCB, PNC]  \n",
       "45  7.8  5.3                                                 []  "
      ]
     },
     "execution_count": 96,
     "metadata": {},
     "output_type": "execute_result"
    }
   ],
   "source": [
    "df.tail(5)"
   ]
  },
  {
   "cell_type": "markdown",
   "metadata": {},
   "source": [
    "# Câu b:\n",
    "Lập trình sử dụng thuật toán FPGrowth để tìm ra Top 5 luật kết hợp phổ biến để gợi ý\n",
    "đăng ký môn học cho sinh viên, giả sử minsup = 5 và minconf = 0.8."
   ]
  },
  {
   "cell_type": "code",
   "execution_count": 97,
   "metadata": {},
   "outputs": [
    {
     "data": {
      "text/plain": [
       "Index(['MaSV', 'KTMT', 'PCB', 'CTDL', 'CSKTLT', 'HDH', 'CSDL', 'HDT', 'WF',\n",
       "       'MMT', 'CNPM', 'DA1', 'HQT', 'PNC', 'TRR', 'good_subject'],\n",
       "      dtype='object')"
      ]
     },
     "execution_count": 97,
     "metadata": {},
     "output_type": "execute_result"
    }
   ],
   "source": [
    "item_1.columns"
   ]
  },
  {
   "cell_type": "code",
   "execution_count": 98,
   "metadata": {},
   "outputs": [],
   "source": [
    "# Tạo dataset D ở dạng one-hot encoding\n",
    "all_subjects=[ 'KTMT', 'PCB', 'CTDL', 'CSKTLT', 'HDH', 'CSDL', 'HDT', 'WF',\n",
    "       'MMT', 'CNPM', 'DA1', 'HQT', 'PNC', 'TRR']\n",
    "one_hot=pd.DataFrame(0,index=df.index,columns=all_subjects)\n",
    "for idx,subjects in  enumerate(df['good_subject']):\n",
    "    for subject in subjects:\n",
    "        one_hot.loc[idx,subject]=1 "
   ]
  },
  {
   "cell_type": "code",
   "execution_count": 99,
   "metadata": {},
   "outputs": [
    {
     "data": {
      "text/html": [
       "<div>\n",
       "<style scoped>\n",
       "    .dataframe tbody tr th:only-of-type {\n",
       "        vertical-align: middle;\n",
       "    }\n",
       "\n",
       "    .dataframe tbody tr th {\n",
       "        vertical-align: top;\n",
       "    }\n",
       "\n",
       "    .dataframe thead th {\n",
       "        text-align: right;\n",
       "    }\n",
       "</style>\n",
       "<table border=\"1\" class=\"dataframe\">\n",
       "  <thead>\n",
       "    <tr style=\"text-align: right;\">\n",
       "      <th></th>\n",
       "      <th>KTMT</th>\n",
       "      <th>PCB</th>\n",
       "      <th>CTDL</th>\n",
       "      <th>CSKTLT</th>\n",
       "      <th>HDH</th>\n",
       "      <th>CSDL</th>\n",
       "      <th>HDT</th>\n",
       "      <th>WF</th>\n",
       "      <th>MMT</th>\n",
       "      <th>CNPM</th>\n",
       "      <th>DA1</th>\n",
       "      <th>HQT</th>\n",
       "      <th>PNC</th>\n",
       "      <th>TRR</th>\n",
       "    </tr>\n",
       "  </thead>\n",
       "  <tbody>\n",
       "    <tr>\n",
       "      <th>0</th>\n",
       "      <td>0</td>\n",
       "      <td>1</td>\n",
       "      <td>1</td>\n",
       "      <td>0</td>\n",
       "      <td>0</td>\n",
       "      <td>0</td>\n",
       "      <td>1</td>\n",
       "      <td>0</td>\n",
       "      <td>0</td>\n",
       "      <td>0</td>\n",
       "      <td>1</td>\n",
       "      <td>0</td>\n",
       "      <td>1</td>\n",
       "      <td>0</td>\n",
       "    </tr>\n",
       "    <tr>\n",
       "      <th>1</th>\n",
       "      <td>1</td>\n",
       "      <td>1</td>\n",
       "      <td>1</td>\n",
       "      <td>1</td>\n",
       "      <td>1</td>\n",
       "      <td>0</td>\n",
       "      <td>1</td>\n",
       "      <td>0</td>\n",
       "      <td>0</td>\n",
       "      <td>1</td>\n",
       "      <td>1</td>\n",
       "      <td>0</td>\n",
       "      <td>1</td>\n",
       "      <td>0</td>\n",
       "    </tr>\n",
       "    <tr>\n",
       "      <th>2</th>\n",
       "      <td>1</td>\n",
       "      <td>1</td>\n",
       "      <td>0</td>\n",
       "      <td>0</td>\n",
       "      <td>0</td>\n",
       "      <td>0</td>\n",
       "      <td>0</td>\n",
       "      <td>0</td>\n",
       "      <td>0</td>\n",
       "      <td>0</td>\n",
       "      <td>0</td>\n",
       "      <td>0</td>\n",
       "      <td>0</td>\n",
       "      <td>0</td>\n",
       "    </tr>\n",
       "    <tr>\n",
       "      <th>3</th>\n",
       "      <td>0</td>\n",
       "      <td>1</td>\n",
       "      <td>0</td>\n",
       "      <td>0</td>\n",
       "      <td>0</td>\n",
       "      <td>0</td>\n",
       "      <td>0</td>\n",
       "      <td>0</td>\n",
       "      <td>0</td>\n",
       "      <td>0</td>\n",
       "      <td>0</td>\n",
       "      <td>0</td>\n",
       "      <td>1</td>\n",
       "      <td>0</td>\n",
       "    </tr>\n",
       "    <tr>\n",
       "      <th>4</th>\n",
       "      <td>1</td>\n",
       "      <td>1</td>\n",
       "      <td>1</td>\n",
       "      <td>1</td>\n",
       "      <td>0</td>\n",
       "      <td>1</td>\n",
       "      <td>1</td>\n",
       "      <td>1</td>\n",
       "      <td>1</td>\n",
       "      <td>1</td>\n",
       "      <td>1</td>\n",
       "      <td>1</td>\n",
       "      <td>1</td>\n",
       "      <td>0</td>\n",
       "    </tr>\n",
       "  </tbody>\n",
       "</table>\n",
       "</div>"
      ],
      "text/plain": [
       "   KTMT  PCB  CTDL  CSKTLT  HDH  CSDL  HDT  WF  MMT  CNPM  DA1  HQT  PNC  TRR\n",
       "0     0    1     1       0    0     0    1   0    0     0    1    0    1    0\n",
       "1     1    1     1       1    1     0    1   0    0     1    1    0    1    0\n",
       "2     1    1     0       0    0     0    0   0    0     0    0    0    0    0\n",
       "3     0    1     0       0    0     0    0   0    0     0    0    0    1    0\n",
       "4     1    1     1       1    0     1    1   1    1     1    1    1    1    0"
      ]
     },
     "execution_count": 99,
     "metadata": {},
     "output_type": "execute_result"
    }
   ],
   "source": [
    "one_hot.head(5)"
   ]
  },
  {
   "cell_type": "code",
   "execution_count": 100,
   "metadata": {},
   "outputs": [
    {
     "name": "stderr",
     "output_type": "stream",
     "text": [
      "d:\\VisualCode\\Python3.12.4\\Filedownload\\Lib\\site-packages\\mlxtend\\frequent_patterns\\fpcommon.py:161: DeprecationWarning: DataFrames with non-bool types result in worse computationalperformance and their support might be discontinued in the future.Please use a DataFrame with bool type\n",
      "  warnings.warn(\n"
     ]
    }
   ],
   "source": [
    "# Sử dụng thuật toán FPGrowth để tìm các tập hợp phổ biến\n",
    "minsup = 5 / 100  # Chuyển đổi sang tỷ lệ\n",
    "frequent_itemsets = fpgrowth(one_hot, min_support=minsup, use_colnames=True)"
   ]
  },
  {
   "cell_type": "code",
   "execution_count": 101,
   "metadata": {},
   "outputs": [],
   "source": [
    "# Tìm các luật kết hợp phổ biến\n",
    "minconf = 0.8\n",
    "rules = association_rules(frequent_itemsets, metric=\"confidence\", min_threshold=minconf, num_itemsets=None)"
   ]
  },
  {
   "cell_type": "code",
   "execution_count": 102,
   "metadata": {},
   "outputs": [],
   "source": [
    "# Lấy top 5 luật phổ biến nhất\n",
    "top_5_rules = rules.sort_values(by=\"confidence\", ascending=False).head(5)"
   ]
  },
  {
   "cell_type": "code",
   "execution_count": 103,
   "metadata": {},
   "outputs": [
    {
     "name": "stdout",
     "output_type": "stream",
     "text": [
      "Dataset D:\n",
      "   KTMT  PCB  CTDL  CSKTLT  HDH  CSDL  HDT  WF  MMT  CNPM  DA1  HQT  PNC  TRR\n",
      "0     0    1     1       0    0     0    1   0    0     0    1    0    1    0\n",
      "1     1    1     1       1    1     0    1   0    0     1    1    0    1    0\n",
      "2     1    1     0       0    0     0    0   0    0     0    0    0    0    0\n",
      "3     0    1     0       0    0     0    0   0    0     0    0    0    1    0\n",
      "4     1    1     1       1    0     1    1   1    1     1    1    1    1    0\n"
     ]
    }
   ],
   "source": [
    "# Hiển thị kết quả\n",
    "print(\"Dataset D:\")\n",
    "print(one_hot.head(5))"
   ]
  },
  {
   "cell_type": "code",
   "execution_count": 104,
   "metadata": {},
   "outputs": [
    {
     "name": "stdout",
     "output_type": "stream",
     "text": [
      "\n",
      "Top 5 luật kết hợp phổ biến:\n",
      "                   antecedents        consequents  antecedent support  \\\n",
      "10705          (DA1, WF, CNPM)    (PCB, HQT, PNC)            0.065217   \n",
      "14280     (WF, HQT, CNPM, PNC)  (CTDL, HDT, KTMT)            0.065217   \n",
      "14278   (CTDL, HQT, CNPM, HDT)    (PNC, WF, KTMT)            0.065217   \n",
      "14277   (CTDL, HQT, CNPM, PNC)    (WF, HDT, KTMT)            0.065217   \n",
      "14276  (CTDL, HQT, CNPM, KTMT)     (WF, HDT, PNC)            0.065217   \n",
      "\n",
      "       consequent support   support  confidence       lift  representativity  \\\n",
      "10705            0.152174  0.065217         1.0   6.571429               1.0   \n",
      "14280            0.152174  0.065217         1.0   6.571429               1.0   \n",
      "14278            0.086957  0.065217         1.0  11.500000               1.0   \n",
      "14277            0.086957  0.065217         1.0  11.500000               1.0   \n",
      "14276            0.086957  0.065217         1.0  11.500000               1.0   \n",
      "\n",
      "       leverage  conviction  zhangs_metric   jaccard  certainty  kulczynski  \n",
      "10705  0.055293         inf       0.906977  0.428571        1.0    0.714286  \n",
      "14280  0.055293         inf       0.906977  0.428571        1.0    0.714286  \n",
      "14278  0.059546         inf       0.976744  0.750000        1.0    0.875000  \n",
      "14277  0.059546         inf       0.976744  0.750000        1.0    0.875000  \n",
      "14276  0.059546         inf       0.976744  0.750000        1.0    0.875000  \n"
     ]
    }
   ],
   "source": [
    "print(\"\\nTop 5 luật kết hợp phổ biến:\")\n",
    "print(top_5_rules)"
   ]
  },
  {
   "cell_type": "markdown",
   "metadata": {},
   "source": [
    "# Câu c:    \n",
    "Dự đoán: nếu một hoặc nhiều môn A,B,... được điểm cao thì các môn A',B',... cũng được điểm cao"
   ]
  },
  {
   "cell_type": "code",
   "execution_count": 105,
   "metadata": {},
   "outputs": [
    {
     "data": {
      "text/html": [
       "<div>\n",
       "<style scoped>\n",
       "    .dataframe tbody tr th:only-of-type {\n",
       "        vertical-align: middle;\n",
       "    }\n",
       "\n",
       "    .dataframe tbody tr th {\n",
       "        vertical-align: top;\n",
       "    }\n",
       "\n",
       "    .dataframe thead th {\n",
       "        text-align: right;\n",
       "    }\n",
       "</style>\n",
       "<table border=\"1\" class=\"dataframe\">\n",
       "  <thead>\n",
       "    <tr style=\"text-align: right;\">\n",
       "      <th></th>\n",
       "      <th>KTMT</th>\n",
       "      <th>PCB</th>\n",
       "      <th>CTDL</th>\n",
       "      <th>CSKTLT</th>\n",
       "      <th>HDH</th>\n",
       "      <th>CSDL</th>\n",
       "      <th>HDT</th>\n",
       "      <th>WF</th>\n",
       "      <th>MMT</th>\n",
       "      <th>CNPM</th>\n",
       "      <th>DA1</th>\n",
       "      <th>HQT</th>\n",
       "      <th>PNC</th>\n",
       "      <th>TRR</th>\n",
       "    </tr>\n",
       "  </thead>\n",
       "  <tbody>\n",
       "    <tr>\n",
       "      <th>0</th>\n",
       "      <td>0</td>\n",
       "      <td>1</td>\n",
       "      <td>1</td>\n",
       "      <td>0</td>\n",
       "      <td>0</td>\n",
       "      <td>0</td>\n",
       "      <td>1</td>\n",
       "      <td>0</td>\n",
       "      <td>0</td>\n",
       "      <td>0</td>\n",
       "      <td>1</td>\n",
       "      <td>0</td>\n",
       "      <td>1</td>\n",
       "      <td>0</td>\n",
       "    </tr>\n",
       "    <tr>\n",
       "      <th>1</th>\n",
       "      <td>1</td>\n",
       "      <td>1</td>\n",
       "      <td>1</td>\n",
       "      <td>1</td>\n",
       "      <td>1</td>\n",
       "      <td>0</td>\n",
       "      <td>1</td>\n",
       "      <td>0</td>\n",
       "      <td>0</td>\n",
       "      <td>1</td>\n",
       "      <td>1</td>\n",
       "      <td>0</td>\n",
       "      <td>1</td>\n",
       "      <td>0</td>\n",
       "    </tr>\n",
       "    <tr>\n",
       "      <th>2</th>\n",
       "      <td>1</td>\n",
       "      <td>1</td>\n",
       "      <td>0</td>\n",
       "      <td>0</td>\n",
       "      <td>0</td>\n",
       "      <td>0</td>\n",
       "      <td>0</td>\n",
       "      <td>0</td>\n",
       "      <td>0</td>\n",
       "      <td>0</td>\n",
       "      <td>0</td>\n",
       "      <td>0</td>\n",
       "      <td>0</td>\n",
       "      <td>0</td>\n",
       "    </tr>\n",
       "    <tr>\n",
       "      <th>3</th>\n",
       "      <td>0</td>\n",
       "      <td>1</td>\n",
       "      <td>0</td>\n",
       "      <td>0</td>\n",
       "      <td>0</td>\n",
       "      <td>0</td>\n",
       "      <td>0</td>\n",
       "      <td>0</td>\n",
       "      <td>0</td>\n",
       "      <td>0</td>\n",
       "      <td>0</td>\n",
       "      <td>0</td>\n",
       "      <td>1</td>\n",
       "      <td>0</td>\n",
       "    </tr>\n",
       "    <tr>\n",
       "      <th>4</th>\n",
       "      <td>1</td>\n",
       "      <td>1</td>\n",
       "      <td>1</td>\n",
       "      <td>1</td>\n",
       "      <td>0</td>\n",
       "      <td>1</td>\n",
       "      <td>1</td>\n",
       "      <td>1</td>\n",
       "      <td>1</td>\n",
       "      <td>1</td>\n",
       "      <td>1</td>\n",
       "      <td>1</td>\n",
       "      <td>1</td>\n",
       "      <td>0</td>\n",
       "    </tr>\n",
       "  </tbody>\n",
       "</table>\n",
       "</div>"
      ],
      "text/plain": [
       "   KTMT  PCB  CTDL  CSKTLT  HDH  CSDL  HDT  WF  MMT  CNPM  DA1  HQT  PNC  TRR\n",
       "0     0    1     1       0    0     0    1   0    0     0    1    0    1    0\n",
       "1     1    1     1       1    1     0    1   0    0     1    1    0    1    0\n",
       "2     1    1     0       0    0     0    0   0    0     0    0    0    0    0\n",
       "3     0    1     0       0    0     0    0   0    0     0    0    0    1    0\n",
       "4     1    1     1       1    0     1    1   1    1     1    1    1    1    0"
      ]
     },
     "execution_count": 105,
     "metadata": {},
     "output_type": "execute_result"
    }
   ],
   "source": [
    "one_hot.head()"
   ]
  },
  {
   "cell_type": "code",
   "execution_count": 106,
   "metadata": {},
   "outputs": [
    {
     "name": "stderr",
     "output_type": "stream",
     "text": [
      "d:\\VisualCode\\Python3.12.4\\Filedownload\\Lib\\site-packages\\mlxtend\\frequent_patterns\\fpcommon.py:161: DeprecationWarning: DataFrames with non-bool types result in worse computationalperformance and their support might be discontinued in the future.Please use a DataFrame with bool type\n",
      "  warnings.warn(\n"
     ]
    }
   ],
   "source": [
    "frequent_itemsets = fpgrowth(one_hot, min_support=0.3, use_colnames=True)"
   ]
  },
  {
   "cell_type": "code",
   "execution_count": 107,
   "metadata": {},
   "outputs": [
    {
     "name": "stdout",
     "output_type": "stream",
     "text": [
      "Frequent Itemsets:\n",
      "    support     itemsets\n",
      "0  0.586957        (PNC)\n",
      "1  0.565217        (PCB)\n",
      "2  0.369565        (DA1)\n",
      "3  0.326087       (CTDL)\n",
      "4  0.434783       (KTMT)\n",
      "5  0.391304       (CNPM)\n",
      "6  0.434783   (PCB, PNC)\n",
      "7  0.304348  (CTDL, PNC)\n",
      "8  0.326087  (PCB, KTMT)\n",
      "9  0.326087  (PNC, KTMT)\n"
     ]
    }
   ],
   "source": [
    "print(\"Frequent Itemsets:\")\n",
    "print(frequent_itemsets)"
   ]
  },
  {
   "cell_type": "code",
   "execution_count": 113,
   "metadata": {},
   "outputs": [],
   "source": [
    "# from sklearn.preprocessing import LabelEncoder\n",
    "# E=LabelEncoder()\n",
    "# frequent_itemsets['itemsets']=E.fit_transform(frequent_itemsets['itemsets'])\n",
    "from mlxtend.frequent_patterns import association_rules"
   ]
  },
  {
   "cell_type": "code",
   "execution_count": null,
   "metadata": {},
   "outputs": [
    {
     "name": "stdout",
     "output_type": "stream",
     "text": [
      "<class 'pandas.core.frame.DataFrame'>\n",
      "RangeIndex: 10 entries, 0 to 9\n",
      "Data columns (total 2 columns):\n",
      " #   Column    Non-Null Count  Dtype  \n",
      "---  ------    --------------  -----  \n",
      " 0   support   10 non-null     float64\n",
      " 1   itemsets  10 non-null     object \n",
      "dtypes: float64(1), object(1)\n",
      "memory usage: 292.0+ bytes\n"
     ]
    }
   ],
   "source": [
    "frequent_itemsets.info()"
   ]
  },
  {
   "cell_type": "code",
   "execution_count": 110,
   "metadata": {},
   "outputs": [
    {
     "data": {
      "image/png": "[encoded data removed]",
      "text/plain": [
       "<Figure size 1500x1000 with 1 Axes>"
      ]
     },
     "metadata": {},
     "output_type": "display_data"
    }
   ],
   "source": [
    "import matplotlib.pyplot as plt\n",
    "frequent_itemsets.hist(figsize=(15,10))\n",
    "plt.get_figlabels()\n",
    "plt.show()"
   ]
  },
  {
   "cell_type": "code",
   "execution_count": 111,
   "metadata": {},
   "outputs": [
    {
     "data": {
      "text/plain": [
       "support      7\n",
       "itemsets    10\n",
       "dtype: int64"
      ]
     },
     "execution_count": 111,
     "metadata": {},
     "output_type": "execute_result"
    }
   ],
   "source": [
    "frequent_itemsets.nunique()"
   ]
  },
  {
   "cell_type": "markdown",
   "metadata": {},
   "source": [
    "Tạo các quy tắc kết hợp từ các mẫu kết hợp phổ biến     \n",
    "Chọn các quy tắc với độ tin cậy (confidence) >= 0.7"
   ]
  },
  {
   "cell_type": "code",
   "execution_count": 121,
   "metadata": {},
   "outputs": [
    {
     "name": "stdout",
     "output_type": "stream",
     "text": [
      "  antecedents consequents  antecedent support  consequent support   support  \\\n",
      "0       (PCB)       (PNC)            0.565217            0.586957  0.434783   \n",
      "1       (PNC)       (PCB)            0.586957            0.565217  0.434783   \n",
      "2      (CTDL)       (PNC)            0.326087            0.586957  0.304348   \n",
      "3      (KTMT)       (PCB)            0.434783            0.565217  0.326087   \n",
      "4      (KTMT)       (PNC)            0.434783            0.586957  0.326087   \n",
      "\n",
      "   confidence      lift  representativity  leverage  conviction  \\\n",
      "0    0.769231  1.310541               1.0  0.103025    1.789855   \n",
      "1    0.740741  1.310541               1.0  0.103025    1.677019   \n",
      "2    0.933333  1.590123               1.0  0.112949    6.195652   \n",
      "3    0.750000  1.326923               1.0  0.080340    1.739130   \n",
      "4    0.750000  1.277778               1.0  0.070888    1.652174   \n",
      "\n",
      "   zhangs_metric   jaccard  certainty  kulczynski  \n",
      "0       0.545000  0.606061   0.441296    0.754986  \n",
      "1       0.573684  0.606061   0.403704    0.754986  \n",
      "2       0.550691  0.500000   0.838596    0.725926  \n",
      "3       0.435897  0.483871   0.425000    0.663462  \n",
      "4       0.384615  0.468750   0.394737    0.652778  \n"
     ]
    }
   ],
   "source": [
    "# Chạy hàm association_rules với tham số metric và min_threshold, số lượng num_itemsets=10\n",
    "rules = association_rules(frequent_itemsets, metric=\"confidence\", min_threshold=0.7, num_itemsets=4)\n",
    "\n",
    "# Hiển thị kết quả\n",
    "print(rules)"
   ]
  },
  {
   "cell_type": "markdown",
   "metadata": {},
   "source": [
    "* antecedents (Tiền đề):\n",
    "Tập hợp các môn học (hoặc mục) xuất hiện trong phần tiền đề của quy tắc kết hợp. Ví dụ, (PCB) trong dòng đầu tiên có nghĩa là nếu môn PCB được điểm cao, thì sẽ có một khả năng cao là môn PNC cũng được điểm cao.\n",
    "* consequents (Hệ quả):\n",
    "Tập hợp các môn học (hoặc mục) xuất hiện trong phần hệ quả của quy tắc kết hợp. Ví dụ, (PNC) trong dòng đầu tiên có nghĩa là nếu môn PCB được điểm cao, thì môn PNC cũng sẽ được điểm cao.\n",
    "* antecedent support:\n",
    "Tần suất (support) của tiền đề, tức là tỷ lệ phần trăm các giao dịch chứa tiền đề trong tập dữ liệu. Ví dụ, 0.565217 cho tiền đề (PCB) có nghĩa là 56.52% các giao dịch chứa môn PCB.\n",
    "* consequent support:\n",
    "Tần suất (support) của hệ quả, tức là tỷ lệ phần trăm các giao dịch chứa hệ quả trong tập dữ liệu. Ví dụ, 0.586957 cho hệ quả (PNC) có nghĩa là 58.70% các giao dịch chứa môn PNC.\n",
    "* support:\n",
    "Tần suất mà quy tắc kết hợp (antecedent => consequent) xuất hiện trong toàn bộ tập dữ liệu. Ví dụ, 0.434783 có nghĩa là 43.48% các giao dịch chứa cả tiền đề và hệ quả.\n",
    "* confidence:\n",
    "Đo lường xác suất (confidence) của việc hệ quả xảy ra khi tiền đề đã xảy ra. Nó cho biết khả năng hệ quả xảy ra khi tiền đề có mặt.\n",
    "Ví dụ: 0.769231 có nghĩa là khi môn PCB được điểm cao, 76.92% khả năng môn PNC cũng sẽ được điểm cao.\n",
    "* lift:\n",
    "Đo lường mức độ phụ thuộc của hai mục. Lift cho biết sự liên quan giữa tiền đề và hệ quả, so với trường hợp mà các mục này hoàn toàn độc lập với nhau.\n",
    "Một giá trị lift lớn hơn 1 cho thấy tiền đề và hệ quả có mối quan hệ chặt chẽ. Ví dụ: 1.310541 có nghĩa là có sự phụ thuộc dương giữa PCB và PNC.\n",
    "* representativity:\n",
    "Đo lường sự đại diện của quy tắc trong tập dữ liệu. Giá trị 1.0 có nghĩa là quy tắc có sự đại diện hoàn hảo đối với tập dữ liệu.\n",
    "* leverage:\n",
    "Chỉ số này đo lường sự khác biệt giữa support của quy tắc và giá trị mong đợi nếu các mục trong tiền đề và hệ quả là độc lập. Giá trị leverage cao cho thấy quy tắc có sức ảnh hưởng mạnh mẽ trong tập dữ liệu. Ví dụ: 0.103025 có nghĩa là sự khác biệt giữa support thực tế và mong đợi là 10.3%.\n",
    "* conviction:\n",
    "Đây là một chỉ số khác để đo lường mức độ mạnh mẽ của quy tắc. Conviction cao có nghĩa là sự phụ thuộc giữa tiền đề và hệ quả là mạnh. Ví dụ: 1.789855 có nghĩa là quy tắc này có một sự phụ thuộc mạnh mẽ.\n",
    "* zhangs_metric:\n",
    "Một chỉ số tương tự như confidence nhưng tính toán trên một nền tảng khác để đánh giá mối quan hệ giữa các mục. Ví dụ: 0.545000 là giá trị của chỉ số này cho quy tắc (PCB => PNC).\n",
    "* jaccard:\n",
    "Đo lường sự tương đồng giữa tiền đề và hệ quả. Một giá trị Jaccard cao cho thấy sự tương đồng lớn giữa các mục. Ví dụ: 0.606061 có nghĩa là có một sự tương đồng vừa phải giữa PCB và PNC.\n",
    "* certainty:\n",
    "Đo lường sự chắc chắn của quy tắc. Một giá trị cao cho thấy quy tắc là chắc chắn hơn khi tiền đề xuất hiện. Ví dụ: 0.441296 cho thấy quy tắc này có mức độ chắc chắn nhất định.\n",
    "* kulczynski:\n",
    "Một chỉ số đo sự tương quan giữa tiền đề và hệ quả, tính toán từ các xác suất của tiền đề và hệ quả. Ví dụ: 0.754986 cho quy tắc (PCB => PNC) cho thấy có sự tương quan mạnh mẽ."
   ]
  }
 ],
 "metadata": {
  "kernelspec": {
   "display_name": "Python 3",
   "language": "python",
   "name": "python3"
  },
  "language_info": {
   "codemirror_mode": {
    "name": "ipython",
    "version": 3
   },
   "file_extension": ".py",
   "mimetype": "text/x-python",
   "name": "python",
   "nbconvert_exporter": "python",
   "pygments_lexer": "ipython3",
   "version": "3.12.4"
  }
 },
 "nbformat": 4,
 "nbformat_minor": 2
}
